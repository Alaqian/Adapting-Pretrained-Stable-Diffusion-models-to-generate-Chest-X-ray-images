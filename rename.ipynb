{
 "cells": [
  {
   "cell_type": "code",
   "execution_count": 14,
   "metadata": {},
   "outputs": [
    {
     "ename": "IndexError",
     "evalue": "index 0 is out of bounds for axis 0 with size 0",
     "output_type": "error",
     "traceback": [
      "\u001b[1;31m---------------------------------------------------------------------------\u001b[0m",
      "\u001b[1;31mIndexError\u001b[0m                                Traceback (most recent call last)",
      "Cell \u001b[1;32mIn[14], line 12\u001b[0m\n\u001b[0;32m     10\u001b[0m row \u001b[39m=\u001b[39m data\u001b[39m.\u001b[39mloc[data[\u001b[39m'\u001b[39m\u001b[39mImageID\u001b[39m\u001b[39m'\u001b[39m] \u001b[39m==\u001b[39m file]\n\u001b[0;32m     11\u001b[0m \u001b[39m# print Prompt\u001b[39;00m\n\u001b[1;32m---> 12\u001b[0m Prompt \u001b[39m=\u001b[39m row[\u001b[39m'\u001b[39;49m\u001b[39mPrompt\u001b[39;49m\u001b[39m'\u001b[39;49m]\u001b[39m.\u001b[39;49mvalues[\u001b[39m0\u001b[39;49m]\n",
      "\u001b[1;31mIndexError\u001b[0m: index 0 is out of bounds for axis 0 with size 0"
     ]
    }
   ],
   "source": [
    "import pandas\n",
    "import os\n",
    "\n",
    "# Read the data\n",
    "data = pandas.read_csv('PADCHEST_Prompt.csv')\n",
    "\n",
    "# for each file in the folder Images, rename the file named date[\"ImageID\"] to date[\"Prompt\"]\n",
    "Images = os.listdir('Images')\n",
    "for file in Images:\n",
    "    row = data.loc[data['ImageID'] == file]\n",
    "    # print Prompt\n",
    "    Prompt = row['Prompt'].values[0]"
   ]
  },
  {
   "cell_type": "code",
   "execution_count": null,
   "metadata": {},
   "outputs": [],
   "source": []
  }
 ],
 "metadata": {
  "kernelspec": {
   "display_name": "ImV",
   "language": "python",
   "name": "python3"
  },
  "language_info": {
   "codemirror_mode": {
    "name": "ipython",
    "version": 3
   },
   "file_extension": ".py",
   "mimetype": "text/x-python",
   "name": "python",
   "nbconvert_exporter": "python",
   "pygments_lexer": "ipython3",
   "version": "3.8.16"
  },
  "orig_nbformat": 4
 },
 "nbformat": 4,
 "nbformat_minor": 2
}
