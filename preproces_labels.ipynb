{
 "cells": [
  {
   "attachments": {},
   "cell_type": "markdown",
   "metadata": {},
   "source": [
    "Labels:\n",
    "- StudyDate_DICOM\n",
    "- PatientBirth\n",
    "- PatientSex_DICOM\n",
    "- ViewPosition_DICOM\n",
    "- Projection\n",
    "- Modality_DICOM\n",
    "- LabelsLocalizationsBySentence\n"
   ]
  },
  {
   "cell_type": "code",
   "execution_count": null,
   "metadata": {},
   "outputs": [],
   "source": [
    "import pandas as pd\n",
    "\n",
    "labels = pd.read_csv('PADCHEST_chest_x_ray_images_labels_160K_01.02.19.csv', index_col=0)\n",
    "\n",
    "# Convert to datetime to year\n",
    "labels['birth'] = labels['PatientBirth']\n",
    "# extract first 4 digits of StudyDate_DICOM\n",
    "labels['year'] = labels['StudyDate_DICOM'].astype(str).str[:4].astype(int)\n",
    "# Calculate age, If PatientBirth is NA, age is NA otherwise age is year - birth\n",
    "labels['age'] = (labels['year'] - labels['birth']).astype('Int64')\n",
    "\n",
    "# Generate prompts\n",
    "labels['age_prompt'] = labels['age'].apply(lambda x: '' if pd.isna(x) else 'age ' + str(x) + ', ')\n",
    "labels['sex_prompt'] = labels['PatientSex_DICOM'].apply(lambda x: '' if pd.isna(x) else 'sex ' + str(x) + ', ')\n",
    "labels['view_prompt'] = labels['ViewPosition_DICOM'].apply(lambda x: '' if pd.isna(x) else 'view ' + str(x) + ', ')\n",
    "labels['projection_prompt'] = labels['Projection'].apply(lambda x: '' if pd.isna(x) else 'projection ' + str(x) + ', ')\n",
    "labels['modality_prompt'] = labels['Modality_DICOM'].apply(lambda x: '' if pd.isna(x) else 'modality ' + str(x) + ', ')\n",
    "labels['diagnosis_prompt'] = labels['LabelsLocalizationsBySentence'].apply(lambda x: '' if pd.isna(x) else 'diagnosis ' + str(x))\n",
    "labels['Prompt'] = 'Chest X-ray, ' + labels['age_prompt'] + labels['sex_prompt'] + labels['view_prompt'] + labels['projection_prompt'] + labels['modality_prompt'] + labels['diagnosis_prompt']\n",
    "\n",
    "# Save a csv file with 3 columns, ImageID, ImageDir, and Prompt\n",
    "labels[['ImageID', 'ImageDir', 'Prompt']].to_csv('PADCHEST_Prompt.csv', index=False)"
   ]
  }
 ],
 "metadata": {
  "kernelspec": {
   "display_name": "ImV",
   "language": "python",
   "name": "python3"
  },
  "language_info": {
   "codemirror_mode": {
    "name": "ipython",
    "version": 3
   },
   "file_extension": ".py",
   "mimetype": "text/x-python",
   "name": "python",
   "nbconvert_exporter": "python",
   "pygments_lexer": "ipython3",
   "version": "3.8.16"
  },
  "orig_nbformat": 4
 },
 "nbformat": 4,
 "nbformat_minor": 2
}
