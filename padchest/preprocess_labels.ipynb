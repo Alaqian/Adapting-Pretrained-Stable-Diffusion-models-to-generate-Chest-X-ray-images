{
 "cells": [
  {
   "attachments": {},
   "cell_type": "markdown",
   "metadata": {},
   "source": [
    "Labels:\n",
    "- StudyDate_DICOM\n",
    "- PatientBirth\n",
    "- PatientSex_DICOM\n",
    "- ViewPosition_DICOM\n",
    "- Projection\n",
    "- Modality_DICOM\n",
    "- LabelsLocalizationsBySentence\n"
   ]
  },
  {
   "cell_type": "code",
   "execution_count": 1,
   "metadata": {},
   "outputs": [
    {
     "name": "stderr",
     "output_type": "stream",
     "text": [
      "/opt/conda/lib/python3.7/site-packages/IPython/core/interactiveshell.py:3553: DtypeWarning: Columns (19,20) have mixed types.Specify dtype option on import or set low_memory=False.\n",
      "  exec(code_obj, self.user_global_ns, self.user_ns)\n",
      "/opt/conda/lib/python3.7/site-packages/ipykernel_launcher.py:19: FutureWarning: The default value of regex will change from True to False in a future version. In addition, single character regular expressions will *not* be treated as literal strings when regex=True.\n"
     ]
    },
    {
     "data": {
      "text/html": [
       "<style type=\"text/css\">\n",
       "#T_e0c65_row0_col3, #T_e0c65_row1_col3, #T_e0c65_row2_col3, #T_e0c65_row3_col3, #T_e0c65_row4_col3, #T_e0c65_row5_col3, #T_e0c65_row6_col3, #T_e0c65_row7_col3, #T_e0c65_row8_col3, #T_e0c65_row9_col3, #T_e0c65_row10_col3 {\n",
       "  width: 1000px;\n",
       "}\n",
       "</style>\n",
       "<table id=\"T_e0c65_\">\n",
       "  <thead>\n",
       "    <tr>\n",
       "      <th class=\"blank level0\" >&nbsp;</th>\n",
       "      <th class=\"col_heading level0 col0\" >ImageDir</th>\n",
       "      <th class=\"col_heading level0 col1\" >ImageID</th>\n",
       "      <th class=\"col_heading level0 col2\" >num_words</th>\n",
       "      <th class=\"col_heading level0 col3\" >Prompt</th>\n",
       "    </tr>\n",
       "  </thead>\n",
       "  <tbody>\n",
       "    <tr>\n",
       "      <th id=\"T_e0c65_level0_row0\" class=\"row_heading level0 row0\" >0</th>\n",
       "      <td id=\"T_e0c65_row0_col0\" class=\"data row0 col0\" >4</td>\n",
       "      <td id=\"T_e0c65_row0_col1\" class=\"data row0 col1\" >322621863245407630024437930897524688767_2mj8aa.png</td>\n",
       "      <td id=\"T_e0c65_row0_col2\" class=\"data row0 col2\" >80</td>\n",
       "      <td id=\"T_e0c65_row0_col3\" class=\"data row0 col3\" >Chest X-ray, age 62 male, projection L, modality CR, diagnosis atelectasis, heart insufficiency, pleural effusion, increased density, pneumonia, loc basal, loc pleural, loc right, loc cardiac, loc left, increased density, loc hilar, loc right, increased density, loc hilar, loc right, pleural effusion both sides, loc pleural, loc bilateral, pleural effusion both sides, loc pleural, loc bilateral, interstitial pattern, loc bilateral, exclude, superior mediastinal enlargement, supra aortic elongation, goiter, loc supra aortic, loc mediastinum, loc superior mediastinum, mediastinal enlargement, loc mediastinum</td>\n",
       "    </tr>\n",
       "    <tr>\n",
       "      <th id=\"T_e0c65_level0_row1\" class=\"row_heading level0 row1\" >1</th>\n",
       "      <td id=\"T_e0c65_row1_col0\" class=\"data row1 col0\" >5</td>\n",
       "      <td id=\"T_e0c65_row1_col1\" class=\"data row1 col1\" >303911634260682037750306148922413316981_4ufdzm.png</td>\n",
       "      <td id=\"T_e0c65_row1_col2\" class=\"data row1 col2\" >87</td>\n",
       "      <td id=\"T_e0c65_row1_col3\" class=\"data row1 col3\" >Chest X-ray, age 92 female, view LL, projection L, modality DX, diagnosis aortic elongation, aortic atheromatosis, loc aortic, laminar atelectasis, loc basal, loc left, osteopenia, scoliosis, loc dorsal vertebrae, loc bone, COPD signs, hiatal hernia, hiatal hernia, humeral fracture, loc bone, loc left, loc humerus, callus rib fracture, loc rib, loc left, loc posterior rib, unchanged, vascular hilar enlargement, loc hilar, loc cardiac, subacromial space narrowing, loc right, loc rotator cuff, costophrenic angle blunting, loc right costophrenic angle, loc costophrenic angle, fibrotic band, chronic changes, loc pleural</td>\n",
       "    </tr>\n",
       "    <tr>\n",
       "      <th id=\"T_e0c65_level0_row2\" class=\"row_heading level0 row2\" >2</th>\n",
       "      <td id=\"T_e0c65_row2_col0\" class=\"data row2 col0\" >5</td>\n",
       "      <td id=\"T_e0c65_row2_col1\" class=\"data row2 col1\" >303911634260682037750306148922413316981_4uc8jd.png</td>\n",
       "      <td id=\"T_e0c65_row2_col2\" class=\"data row2 col2\" >87</td>\n",
       "      <td id=\"T_e0c65_row2_col3\" class=\"data row2 col3\" >Chest X-ray, age 92 female, view PA, projection PA, modality DX, diagnosis aortic elongation, aortic atheromatosis, loc aortic, laminar atelectasis, loc basal, loc left, osteopenia, scoliosis, loc dorsal vertebrae, loc bone, COPD signs, hiatal hernia, hiatal hernia, humeral fracture, loc bone, loc left, loc humerus, callus rib fracture, loc rib, loc left, loc posterior rib, unchanged, vascular hilar enlargement, loc hilar, loc cardiac, subacromial space narrowing, loc right, loc rotator cuff, costophrenic angle blunting, loc right costophrenic angle, loc costophrenic angle, fibrotic band, chronic changes, loc pleural</td>\n",
       "    </tr>\n",
       "    <tr>\n",
       "      <th id=\"T_e0c65_level0_row3\" class=\"row_heading level0 row3\" >3</th>\n",
       "      <td id=\"T_e0c65_row3_col0\" class=\"data row3 col0\" >6</td>\n",
       "      <td id=\"T_e0c65_row3_col1\" class=\"data row3 col1\" >311480822391073525044015832605252159955_ouorsn.png</td>\n",
       "      <td id=\"T_e0c65_row3_col2\" class=\"data row3 col2\" >94</td>\n",
       "      <td id=\"T_e0c65_row3_col3\" class=\"data row3 col3\" >Chest X-ray, age 90 male, view AP, projection AP, modality DX, diagnosis goiter, superior mediastinal enlargement, loc mediastinum, loc superior mediastinum, aortic elongation, aortic atheromatosis, loc aortic, laminar atelectasis, loc basal bilateral, exclude, scoliosis, vertebral degenerative changes, loc bone, COPD signs, hiatal hernia, hiatal hernia, calcified granuloma, loc bilateral, osteosynthesis material, loc humeral head, loc left, loc humerus, callus rib fracture, loc rib, loc right, alveolar pattern, pneumonia, loc basal bilateral, pacemaker, single chamber device, loc left, fibrotic band, chronic changes, loc pleural, hilar congestion, loc hilar, loc cardiac, apical pleural thickening, loc pleural</td>\n",
       "    </tr>\n",
       "    <tr>\n",
       "      <th id=\"T_e0c65_level0_row4\" class=\"row_heading level0 row4\" >4</th>\n",
       "      <td id=\"T_e0c65_row4_col0\" class=\"data row4 col0\" >9</td>\n",
       "      <td id=\"T_e0c65_row4_col1\" class=\"data row4 col1\" >174654958803616926510759514339561596940_xze55j.png</td>\n",
       "      <td id=\"T_e0c65_row4_col2\" class=\"data row4 col2\" >77</td>\n",
       "      <td id=\"T_e0c65_row4_col3\" class=\"data row4 col3\" >Chest X-ray, age 78 male, projection L, modality CR, diagnosis laminar atelectasis, bronchiectasis, loc middle lobe, loc bronchi, vertebral degenerative changes, air trapping, loc retrocardiac, calcified densities, granuloma, loc right upper lobe, loc middle lung field, pseudonodule, loc middle lung field, normal, suboptimal study, loc right, soft tissue mass, loc soft tissue, loc rib, loc right, exclude, loc cervical, chronic changes, chronic changes, apical pleural thickening, fibrotic band, loc pleural, apical pleural thickening, fibrotic band, loc pleural</td>\n",
       "    </tr>\n",
       "    <tr>\n",
       "      <th id=\"T_e0c65_level0_row5\" class=\"row_heading level0 row5\" >5</th>\n",
       "      <td id=\"T_e0c65_row5_col0\" class=\"data row5 col0\" >9</td>\n",
       "      <td id=\"T_e0c65_row5_col1\" class=\"data row5 col1\" >174654958803616926510759514339561596940_xjxwm2.png</td>\n",
       "      <td id=\"T_e0c65_row5_col2\" class=\"data row5 col2\" >77</td>\n",
       "      <td id=\"T_e0c65_row5_col3\" class=\"data row5 col3\" >Chest X-ray, age 78 male, projection PA, modality CR, diagnosis laminar atelectasis, bronchiectasis, loc middle lobe, loc bronchi, vertebral degenerative changes, air trapping, loc retrocardiac, calcified densities, granuloma, loc right upper lobe, loc middle lung field, pseudonodule, loc middle lung field, normal, suboptimal study, loc right, soft tissue mass, loc soft tissue, loc rib, loc right, exclude, loc cervical, chronic changes, chronic changes, apical pleural thickening, fibrotic band, loc pleural, apical pleural thickening, fibrotic band, loc pleural</td>\n",
       "    </tr>\n",
       "    <tr>\n",
       "      <th id=\"T_e0c65_level0_row6\" class=\"row_heading level0 row6\" >6</th>\n",
       "      <td id=\"T_e0c65_row6_col0\" class=\"data row6 col0\" >9</td>\n",
       "      <td id=\"T_e0c65_row6_col1\" class=\"data row6 col1\" >253102062039367104507370231338421285645_ivdzdy.png</td>\n",
       "      <td id=\"T_e0c65_row6_col2\" class=\"data row6 col2\" >77</td>\n",
       "      <td id=\"T_e0c65_row6_col3\" class=\"data row6 col3\" >Chest X-ray, age 79 female, projection AP, modality CR, diagnosis calcified densities, loc supraspisnous, loc right, aortic atheromatosis, aortic elongation, loc aortic, alveolar pattern, pneumonia, loc lower lung field, loc upper lung field, loc right, loc left, atelectasis, pleural effusion, loc right lower lobe, loc pleural, alveolar pattern, heart insufficiency, loc cardiac, loc hilar bilateral, loc bilateral, vertebral degenerative changes, loc bone, exclude, loc left, loc humerus, sclerotic bone lesion, loc bone, loc left, loc scapula, unchanged</td>\n",
       "    </tr>\n",
       "    <tr>\n",
       "      <th id=\"T_e0c65_level0_row7\" class=\"row_heading level0 row7\" >7</th>\n",
       "      <td id=\"T_e0c65_row7_col0\" class=\"data row7 col0\" >13</td>\n",
       "      <td id=\"T_e0c65_row7_col1\" class=\"data row7 col1\" >216840111366964013663026955732013122144112031_02-036-197.png</td>\n",
       "      <td id=\"T_e0c65_row7_col2\" class=\"data row7 col2\" >82</td>\n",
       "      <td id=\"T_e0c65_row7_col3\" class=\"data row7 col3\" >Chest X-ray, age 83 male, view LATERAL, projection L, modality CR, diagnosis cardiomegaly, loc cardiac, aortic elongation,  descendent aortic elongation, loc aortic, superior mediastinal enlargement,  supra aortic elongation, loc supra aortic, loc mediastinum, loc right, loc superior mediastinum, normal, exclude, loc left, calcified adenopathy, loc paravertebral, loc lumbar vertebrae, loc right, osteopenia, vertebral degenerative changes, loc cervical vertebrae, vertebral degenerative changes, vertebral degenerative changes, non axial articular degenerative changes, exclude,  non axial articular degenerative changes, loc right, non axial articular degenerative changes</td>\n",
       "    </tr>\n",
       "    <tr>\n",
       "      <th id=\"T_e0c65_level0_row8\" class=\"row_heading level0 row8\" >8</th>\n",
       "      <td id=\"T_e0c65_row8_col0\" class=\"data row8 col0\" >16</td>\n",
       "      <td id=\"T_e0c65_row8_col1\" class=\"data row8 col1\" >216840111366964013663026955732013122144112031_02-037-029.png</td>\n",
       "      <td id=\"T_e0c65_row8_col2\" class=\"data row8 col2\" >82</td>\n",
       "      <td id=\"T_e0c65_row8_col3\" class=\"data row8 col3\" >Chest X-ray, age 83 male, view POSTEROANTERIOR, projection PA, modality CR, diagnosis cardiomegaly, loc cardiac, aortic elongation,  descendent aortic elongation, loc aortic, superior mediastinal enlargement,  supra aortic elongation, loc supra aortic, loc mediastinum, loc right, loc superior mediastinum, normal, exclude, loc left, calcified adenopathy, loc paravertebral, loc lumbar vertebrae, loc right, osteopenia, vertebral degenerative changes, loc cervical vertebrae, vertebral degenerative changes, vertebral degenerative changes, non axial articular degenerative changes, exclude,  non axial articular degenerative changes, loc right, non axial articular degenerative changes</td>\n",
       "    </tr>\n",
       "    <tr>\n",
       "      <th id=\"T_e0c65_level0_row9\" class=\"row_heading level0 row9\" >9</th>\n",
       "      <td id=\"T_e0c65_row9_col0\" class=\"data row9 col0\" >26</td>\n",
       "      <td id=\"T_e0c65_row9_col1\" class=\"data row9 col1\" >216840111366964014008416513202014159094152180_01-191-029.png</td>\n",
       "      <td id=\"T_e0c65_row9_col2\" class=\"data row9 col2\" >80</td>\n",
       "      <td id=\"T_e0c65_row9_col3\" class=\"data row9 col3\" >Chest X-ray, age 62 female, projection PA, modality CR, diagnosis central venous catheter via subclavian vein, loc central, loc right, loc subclavian vein, costophrenic angle blunting,  pleural effusion, loc costophrenic angle, loc right costophrenic angle, loc left, loc pleural, pulmonary mass, loc right upper lobe, loc paramediastinum, adenopathy,  mediastinal enlargement, loc hilar, loc mediastinum, pseudonodule, loc middle lung field, loc bilateral, loc lower lung field, loc hemithorax, sclerotic bone lesion, loc scapula, loc clavicle, loc rib, loc humerus, loc column</td>\n",
       "    </tr>\n",
       "    <tr>\n",
       "      <th id=\"T_e0c65_level0_row10\" class=\"row_heading level0 row10\" >10</th>\n",
       "      <td id=\"T_e0c65_row10_col0\" class=\"data row10 col0\" >26</td>\n",
       "      <td id=\"T_e0c65_row10_col1\" class=\"data row10 col1\" >216840111366964014008416513202014159094152180_01-191-007.png</td>\n",
       "      <td id=\"T_e0c65_row10_col2\" class=\"data row10 col2\" >80</td>\n",
       "      <td id=\"T_e0c65_row10_col3\" class=\"data row10 col3\" >Chest X-ray, age 62 female, projection L, modality CR, diagnosis central venous catheter via subclavian vein, loc central, loc right, loc subclavian vein, costophrenic angle blunting,  pleural effusion, loc costophrenic angle, loc right costophrenic angle, loc left, loc pleural, pulmonary mass, loc right upper lobe, loc paramediastinum, adenopathy,  mediastinal enlargement, loc hilar, loc mediastinum, pseudonodule, loc middle lung field, loc bilateral, loc lower lung field, loc hemithorax, sclerotic bone lesion, loc scapula, loc clavicle, loc rib, loc humerus, loc column</td>\n",
       "    </tr>\n",
       "  </tbody>\n",
       "</table>\n"
      ],
      "text/plain": [
       "<pandas.io.formats.style.Styler at 0x7fdf7b60a690>"
      ]
     },
     "execution_count": 1,
     "metadata": {},
     "output_type": "execute_result"
    }
   ],
   "source": [
    "import pandas as pd\n",
    "\n",
    "labels = pd.read_csv('PADCHEST_chest_x_ray_images_labels_160K_01.02.19.csv', index_col=0)\n",
    "\n",
    "# Calculate age, If PatientBirth is NA, age is NA otherwise age is year - birth\n",
    "labels['birth'] = labels['PatientBirth']\n",
    "labels['year'] = labels['StudyDate_DICOM'].astype(str).str[:4].astype(int)\n",
    "labels['age'] = (labels['year'] - labels['birth']).astype('Int64')\n",
    "\n",
    "# Generate prompts\n",
    "labels['age_prompt'] = labels['age'].apply(lambda x: '' if pd.isna(x) else 'age ' + str(x))\n",
    "labels['sex_prompt'] = labels['PatientSex_DICOM'].apply(lambda x: ' male, ' if x == 'M' else ' female, ' if x == 'F' else ', ')\n",
    "labels['view_prompt'] = labels['ViewPosition_DICOM'].apply(lambda x: '' if pd.isna(x) else 'view ' + str(x) + ', ')\n",
    "labels['projection_prompt'] = labels['Projection'].apply(lambda x: '' if pd.isna(x) else 'projection ' + str(x) + ', ')\n",
    "labels['modality_prompt'] = labels['Modality_DICOM'].apply(lambda x: '' if pd.isna(x) else 'modality ' + str(x) + ', ')\n",
    "labels['diagnosis_prompt'] = labels['LabelsLocalizationsBySentence'].apply(lambda x: '' if pd.isna(x) else 'diagnosis ' + str(x))\n",
    "labels['Prompt'] = 'Chest X-ray, ' + labels['age_prompt'] + labels['sex_prompt'] + labels['view_prompt'] + labels['projection_prompt'] + labels['modality_prompt'] + labels['diagnosis_prompt']\n",
    "# remove square brackets and single quotes\n",
    "labels['Prompt'] = labels['Prompt'].str.replace('[', '').str.replace(']', '').str.replace(\"'\", '')\n",
    "# Save a csv file with 3 columns, ImageID, ImageDir, and Prompt\n",
    "labels[['ImageID', 'ImageDir', 'Prompt']].to_csv('PADCHEST_Prompt.csv', index=False)\n",
    "\n",
    "# Print the ImageDir, ImageID, number of words and prompts for prompts with more than 75 words without truncation\n",
    "labels['num_words'] = labels['Prompt'].str.split().str.len()\n",
    "labels[['ImageDir', 'ImageID', 'num_words', 'Prompt']][labels['num_words'] > 75].reset_index(drop=True).style.set_properties(subset=['Prompt'], **{'width': '1000px'})"
   ]
  },
  {
   "cell_type": "code",
   "execution_count": 10,
   "metadata": {},
   "outputs": [
    {
     "name": "stdout",
     "output_type": "stream",
     "text": [
      "20\n"
     ]
    }
   ],
   "source": [
    "name_file = pd.read_csv('scoliosis.csv', header=None)\n",
    "name_file.head()\n",
    "src = \"/home/aaz7118_nyu_edu/padchest/filtered_labels\"\n",
    "dest = \"/home/aaz7118_nyu_edu/tests/img325+diagnosis/scoliosis\"\n",
    "# read the images names from name_file that contains a list of .png files. For all \".png\" files, copy the \".png\" and .txt files from src to dest\n",
    "import os\n",
    "import shutil\n",
    "# display all the entries in name_file\n",
    "count = 0\n",
    "for i in range(len(name_file)):\n",
    "    # get the image name\n",
    "    image_name = name_file.iloc[i,0] # ends with \".png\"\n",
    "    # get the image name without the extension\n",
    "    txt_name = image_name[:-4] + \".txt\" # ends with \".txt\"\n",
    "for i in range(len(name_file)):\n",
    "    # get the image name\n",
    "    image_name = name_file.iloc[i,0] # ends with \".png\"\n",
    "    # get the image name without the extension\n",
    "    txt_name = image_name[:-4] + \".txt\" # ends with \".txt\"\n",
    "    # copy the image and txt file from src to dest\n",
    "    shutil.copy(os.path.join(src, image_name), dest)\n",
    "    shutil.copy(os.path.join(src, txt_name), dest)\n",
    "    count += 1\n",
    "print(count)"
   ]
  },
  {
   "cell_type": "code",
   "execution_count": 8,
   "metadata": {},
   "outputs": [],
   "source": [
    "source = \"/home/aaz7118_nyu_edu/padchest/6\"\n",
    "dest = \"/home/aaz7118_nyu_edu/padchest/filtered_nolabels\"\n",
    "table = \"/home/aaz7118_nyu_edu/Chest-X-ray-Generator/padchest/padchest_filtered.csv\"\n",
    "# read the table as a dataframe. Copy each ['ImageID'] from source to dest and save a new .txt file with the ['Prompt'] in dest\n",
    "import shutil\n",
    "import os\n",
    "import pandas as pd\n",
    "df = pd.read_csv(table)\n",
    "for imageID in df['ImageID']:\n",
    "    shutil.copy(source + '/' + imageID + '.png', dest)\n",
    "    #f = open(dest + '/' + imageID + '.txt', \"w\")\n",
    "    #f.write(df[df['ImageID'] == imageID]['Prompt'].values[0])\n",
    "    #f.close()"
   ]
  },
  {
   "cell_type": "code",
   "execution_count": 9,
   "metadata": {},
   "outputs": [
    {
     "name": "stdout",
     "output_type": "stream",
     "text": [
      "960\n"
     ]
    }
   ],
   "source": [
    "# count the numeber of .png files and .txt files in dest\n",
    "import os\n",
    "path, dirs, files = next(os.walk(dest))\n",
    "file_count = len(files)\n",
    "print(file_count)"
   ]
  },
  {
   "cell_type": "code",
   "execution_count": 10,
   "metadata": {},
   "outputs": [
    {
     "name": "stdout",
     "output_type": "stream",
     "text": [
      "1920\n"
     ]
    }
   ],
   "source": [
    "source = \"/home/aaz7118_nyu_edu/padchest/6\"\n",
    "dest = \"/home/aaz7118_nyu_edu/padchest/filtered_labels\"\n",
    "table = \"/home/aaz7118_nyu_edu/Chest-X-ray-Generator/padchest/padchest_filtered.csv\"\n",
    "# read the table as a dataframe. Copy each ['ImageID'] from source to dest and save a new .txt file with the ['Prompt'] in dest\n",
    "import shutil\n",
    "import os\n",
    "import pandas as pd\n",
    "df = pd.read_csv(table)\n",
    "for imageID in df['ImageID']:\n",
    "    shutil.copy(source + '/' + imageID + '.png', dest)\n",
    "    f = open(dest + '/' + imageID + '.txt', \"w\")\n",
    "    f.write(df[df['ImageID'] == imageID]['Prompt'].values[0])\n",
    "    f.close()\n",
    "    \n",
    "# count the numeber of .png files and .txt files in dest\n",
    "import os\n",
    "path, dirs, files = next(os.walk(dest))\n",
    "file_count = len(files)\n",
    "print(file_count)"
   ]
  },
  {
   "cell_type": "code",
   "execution_count": 8,
   "metadata": {},
   "outputs": [
    {
     "name": "stderr",
     "output_type": "stream",
     "text": [
      "Could Not Find i:\\.shortcut-targets-by-id\\1QF76AhqSRIIUbG5RU8c7Dp1pH2K30Gqa\\Project\\Datasets\\padchest\\30\\*.txt\n",
      "Could Not Find i:\\.shortcut-targets-by-id\\1QF76AhqSRIIUbG5RU8c7Dp1pH2K30Gqa\\Project\\Datasets\\padchest\\42\\*.txt\n",
      "Could Not Find i:\\.shortcut-targets-by-id\\1QF76AhqSRIIUbG5RU8c7Dp1pH2K30Gqa\\Project\\Datasets\\padchest\\54\\*.txt\n"
     ]
    }
   ],
   "source": [
    "!del \"50\\*.txt\"\n",
    "!del \"6\\*.txt\"\n",
    "!del \"30\\*.txt\"\n",
    "!del \"42\\*.txt\"\n",
    "!del \"54\\*.txt\""
   ]
  },
  {
   "cell_type": "code",
   "execution_count": 9,
   "metadata": {},
   "outputs": [
    {
     "name": "stderr",
     "output_type": "stream",
     "text": [
      "Could Not Find i:\\.shortcut-targets-by-id\\1QF76AhqSRIIUbG5RU8c7Dp1pH2K30Gqa\\Project\\Datasets\\padchest\\50\\*.caption\n",
      "Could Not Find i:\\.shortcut-targets-by-id\\1QF76AhqSRIIUbG5RU8c7Dp1pH2K30Gqa\\Project\\Datasets\\padchest\\6\\*.caption\n",
      "Could Not Find i:\\.shortcut-targets-by-id\\1QF76AhqSRIIUbG5RU8c7Dp1pH2K30Gqa\\Project\\Datasets\\padchest\\30\\*.caption\n",
      "Could Not Find i:\\.shortcut-targets-by-id\\1QF76AhqSRIIUbG5RU8c7Dp1pH2K30Gqa\\Project\\Datasets\\padchest\\42\\*.caption\n",
      "Could Not Find i:\\.shortcut-targets-by-id\\1QF76AhqSRIIUbG5RU8c7Dp1pH2K30Gqa\\Project\\Datasets\\padchest\\54\\*.caption\n"
     ]
    }
   ],
   "source": [
    "!del \"50\\*.caption\"\n",
    "!del \"6\\*.caption\"\n",
    "!del \"30\\*.caption\"\n",
    "!del \"42\\*.caption\"\n",
    "!del \"54\\*.caption\""
   ]
  },
  {
   "cell_type": "code",
   "execution_count": 10,
   "metadata": {},
   "outputs": [
    {
     "name": "stdout",
     "output_type": "stream",
     "text": [
      "Directory: \t50\tCreated: \t1\tErrors: \t0\n",
      "Directory: \t6\tCreated: \t1645\tErrors: \t0\n",
      "Directory: \t30\tCreated: \t3205\tErrors: \t0\n",
      "Directory: \t42\tCreated: \t3217\tErrors: \t0\n",
      "Directory: \t54\tCreated: \t4297\tErrors: \t0\n"
     ]
    }
   ],
   "source": [
    "import os\n",
    "# cerate text files with the same name as the image containing the prompt\n",
    "def creat_text(path):\n",
    "    count = 0\n",
    "    error = 0\n",
    "    labels_dir = labels[labels['ImageDir'] == path]\n",
    "    path = str(path)\n",
    "    for image in os.listdir(path):\n",
    "        try:\n",
    "            if image.split('.')[1] != 'png':\n",
    "                continue\n",
    "            text = labels_dir[labels_dir['ImageID'] == image]['Prompt'].values[0]\n",
    "            image_id = image.split('.')[0]\n",
    "            with open(path + '/' + image_id + '.txt', 'w') as f:\n",
    "                f.write(text)\n",
    "            count += 1\n",
    "        except:\n",
    "            error += 1\n",
    "            print('Error: ', image)\n",
    "    print('Directory: ', path, 'Created: ', count, 'Errors: ', error, sep='\\t')\n",
    "\n",
    "creat_text(50)\n",
    "creat_text(6)\n",
    "creat_text(30)\n",
    "creat_text(42)\n",
    "creat_text(54)"
   ]
  },
  {
   "cell_type": "code",
   "execution_count": 11,
   "metadata": {},
   "outputs": [
    {
     "name": "stdout",
     "output_type": "stream",
     "text": [
      "325\n"
     ]
    }
   ],
   "source": [
    "import os\n",
    "import shutil\n",
    "\n",
    "filtered = pd.read_csv('padchest_filtered.csv')\n",
    "# filter the labels df to only include images in filtered\n",
    "label_54 = labels[labels['ImageID'].isin(filtered['ImageID']+ '.png')]\n",
    "# find images with ['normal'] Label and [] Localizations\n",
    "normal_54 = label_54[(label_54['Labels'] == '[\\'normal\\']') & (label_54['Localizations'] == '[]')] \n",
    "normal_54.count()\n",
    "# randomly select 100 images and copy the images and text files to a new folder\n",
    "import random\n",
    "import shutil\n",
    "random.seed(1)\n",
    "#sample = normal_54.sample(n=1)\n",
    "count = 0\n",
    "for image in normal_54['ImageID']:\n",
    "        count += 1\n",
    "        #shutil.copy(\"I:/My Drive/kohya/results/filtered_nolabels_RGB/\" + image, \"I:/My Drive/kohya/results/normal_nolabels_RGB\")\n",
    "        shutil.copy(\"I:/My Drive/kohya/results/filtered_labels_RGB/\" + image.split('.')[0] + '.txt', \"I:/My Drive/kohya/results/normal_labels_RGB\")\n",
    "        shutil.copy('I:/My Drive/kohya/results/filtered_labels_RGB/' + image, \"I:/My Drive/kohya/results/normal_labels_RGB\")\n",
    "print(count)"
   ]
  },
  {
   "cell_type": "code",
   "execution_count": 2,
   "metadata": {},
   "outputs": [
    {
     "name": "stdout",
     "output_type": "stream",
     "text": [
      "Directory: \t/home/aaz7118_nyu_edu/padchest/6\tCreated: \t1643\tErrors: \t0\n",
      "Directory: \t/home/aaz7118_nyu_edu/padchest/54\tCreated: \t4297\tErrors: \t0\n"
     ]
    }
   ],
   "source": [
    "dirs = [6, 54]\n",
    "\n",
    "import os\n",
    "for i in range(len(dirs)):\n",
    "    count = 0\n",
    "    error = 0\n",
    "    labels_dir = labels[labels['ImageDir'] == dirs[i]]\n",
    "    path = '/home/aaz7118_nyu_edu/padchest/' + str(dirs[i])\n",
    "    for image in os.listdir(path):\n",
    "        try:\n",
    "            if image.split('.')[1] != 'png':\n",
    "                continue\n",
    "            text = labels_dir[labels_dir['ImageID'] == image]['Prompt'].values[0]\n",
    "            image_id = image.split('.')[0]\n",
    "            with open(path + '/' + image_id + '.txt', 'w') as f:\n",
    "                f.write(text)\n",
    "            count += 1\n",
    "        except:\n",
    "            error += 1\n",
    "            print('Error: ', image)\n",
    "    print('Directory: ', path, 'Created: ', count, 'Errors: ', error, sep='\\t')"
   ]
  }
 ],
 "metadata": {
  "kernelspec": {
   "display_name": "ImV",
   "language": "python",
   "name": "python3"
  },
  "language_info": {
   "codemirror_mode": {
    "name": "ipython",
    "version": 3
   },
   "file_extension": ".py",
   "mimetype": "text/x-python",
   "name": "python",
   "nbconvert_exporter": "python",
   "pygments_lexer": "ipython3",
   "version": "3.8.16"
  },
  "orig_nbformat": 4
 },
 "nbformat": 4,
 "nbformat_minor": 2
}
