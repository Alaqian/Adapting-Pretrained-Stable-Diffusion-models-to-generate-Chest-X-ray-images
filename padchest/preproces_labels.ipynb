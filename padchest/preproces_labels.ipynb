{
 "cells": [
  {
   "attachments": {},
   "cell_type": "markdown",
   "metadata": {},
   "source": [
    "Labels:\n",
    "- StudyDate_DICOM\n",
    "- PatientBirth\n",
    "- PatientSex_DICOM\n",
    "- ViewPosition_DICOM\n",
    "- Projection\n",
    "- Modality_DICOM\n",
    "- LabelsLocalizationsBySentence\n"
   ]
  },
  {
   "cell_type": "code",
   "execution_count": 7,
   "metadata": {},
   "outputs": [
    {
     "data": {
      "text/html": [
       "<style type=\"text/css\">\n",
       "#T_fd3e3_row0_col3, #T_fd3e3_row1_col3, #T_fd3e3_row2_col3, #T_fd3e3_row3_col3, #T_fd3e3_row4_col3, #T_fd3e3_row5_col3, #T_fd3e3_row6_col3, #T_fd3e3_row7_col3, #T_fd3e3_row8_col3, #T_fd3e3_row9_col3, #T_fd3e3_row10_col3 {\n",
       "  width: 1000px;\n",
       "}\n",
       "</style>\n",
       "<table id=\"T_fd3e3\">\n",
       "  <thead>\n",
       "    <tr>\n",
       "      <th class=\"blank level0\" >&nbsp;</th>\n",
       "      <th id=\"T_fd3e3_level0_col0\" class=\"col_heading level0 col0\" >ImageDir</th>\n",
       "      <th id=\"T_fd3e3_level0_col1\" class=\"col_heading level0 col1\" >ImageID</th>\n",
       "      <th id=\"T_fd3e3_level0_col2\" class=\"col_heading level0 col2\" >num_words</th>\n",
       "      <th id=\"T_fd3e3_level0_col3\" class=\"col_heading level0 col3\" >Prompt</th>\n",
       "    </tr>\n",
       "  </thead>\n",
       "  <tbody>\n",
       "    <tr>\n",
       "      <th id=\"T_fd3e3_level0_row0\" class=\"row_heading level0 row0\" >0</th>\n",
       "      <td id=\"T_fd3e3_row0_col0\" class=\"data row0 col0\" >4</td>\n",
       "      <td id=\"T_fd3e3_row0_col1\" class=\"data row0 col1\" >322621863245407630024437930897524688767_2mj8aa.png</td>\n",
       "      <td id=\"T_fd3e3_row0_col2\" class=\"data row0 col2\" >80</td>\n",
       "      <td id=\"T_fd3e3_row0_col3\" class=\"data row0 col3\" >Chest X-ray, age 62 male, projection L, modality CR, diagnosis atelectasis, heart insufficiency, pleural effusion, increased density, pneumonia, loc basal, loc pleural, loc right, loc cardiac, loc left, increased density, loc hilar, loc right, increased density, loc hilar, loc right, pleural effusion both sides, loc pleural, loc bilateral, pleural effusion both sides, loc pleural, loc bilateral, interstitial pattern, loc bilateral, exclude, superior mediastinal enlargement, supra aortic elongation, goiter, loc supra aortic, loc mediastinum, loc superior mediastinum, mediastinal enlargement, loc mediastinum</td>\n",
       "    </tr>\n",
       "    <tr>\n",
       "      <th id=\"T_fd3e3_level0_row1\" class=\"row_heading level0 row1\" >1</th>\n",
       "      <td id=\"T_fd3e3_row1_col0\" class=\"data row1 col0\" >5</td>\n",
       "      <td id=\"T_fd3e3_row1_col1\" class=\"data row1 col1\" >303911634260682037750306148922413316981_4ufdzm.png</td>\n",
       "      <td id=\"T_fd3e3_row1_col2\" class=\"data row1 col2\" >87</td>\n",
       "      <td id=\"T_fd3e3_row1_col3\" class=\"data row1 col3\" >Chest X-ray, age 92 female, view LL, projection L, modality DX, diagnosis aortic elongation, aortic atheromatosis, loc aortic, laminar atelectasis, loc basal, loc left, osteopenia, scoliosis, loc dorsal vertebrae, loc bone, COPD signs, hiatal hernia, hiatal hernia, humeral fracture, loc bone, loc left, loc humerus, callus rib fracture, loc rib, loc left, loc posterior rib, unchanged, vascular hilar enlargement, loc hilar, loc cardiac, subacromial space narrowing, loc right, loc rotator cuff, costophrenic angle blunting, loc right costophrenic angle, loc costophrenic angle, fibrotic band, chronic changes, loc pleural</td>\n",
       "    </tr>\n",
       "    <tr>\n",
       "      <th id=\"T_fd3e3_level0_row2\" class=\"row_heading level0 row2\" >2</th>\n",
       "      <td id=\"T_fd3e3_row2_col0\" class=\"data row2 col0\" >5</td>\n",
       "      <td id=\"T_fd3e3_row2_col1\" class=\"data row2 col1\" >303911634260682037750306148922413316981_4uc8jd.png</td>\n",
       "      <td id=\"T_fd3e3_row2_col2\" class=\"data row2 col2\" >87</td>\n",
       "      <td id=\"T_fd3e3_row2_col3\" class=\"data row2 col3\" >Chest X-ray, age 92 female, view PA, projection PA, modality DX, diagnosis aortic elongation, aortic atheromatosis, loc aortic, laminar atelectasis, loc basal, loc left, osteopenia, scoliosis, loc dorsal vertebrae, loc bone, COPD signs, hiatal hernia, hiatal hernia, humeral fracture, loc bone, loc left, loc humerus, callus rib fracture, loc rib, loc left, loc posterior rib, unchanged, vascular hilar enlargement, loc hilar, loc cardiac, subacromial space narrowing, loc right, loc rotator cuff, costophrenic angle blunting, loc right costophrenic angle, loc costophrenic angle, fibrotic band, chronic changes, loc pleural</td>\n",
       "    </tr>\n",
       "    <tr>\n",
       "      <th id=\"T_fd3e3_level0_row3\" class=\"row_heading level0 row3\" >3</th>\n",
       "      <td id=\"T_fd3e3_row3_col0\" class=\"data row3 col0\" >6</td>\n",
       "      <td id=\"T_fd3e3_row3_col1\" class=\"data row3 col1\" >311480822391073525044015832605252159955_ouorsn.png</td>\n",
       "      <td id=\"T_fd3e3_row3_col2\" class=\"data row3 col2\" >94</td>\n",
       "      <td id=\"T_fd3e3_row3_col3\" class=\"data row3 col3\" >Chest X-ray, age 90 male, view AP, projection AP, modality DX, diagnosis goiter, superior mediastinal enlargement, loc mediastinum, loc superior mediastinum, aortic elongation, aortic atheromatosis, loc aortic, laminar atelectasis, loc basal bilateral, exclude, scoliosis, vertebral degenerative changes, loc bone, COPD signs, hiatal hernia, hiatal hernia, calcified granuloma, loc bilateral, osteosynthesis material, loc humeral head, loc left, loc humerus, callus rib fracture, loc rib, loc right, alveolar pattern, pneumonia, loc basal bilateral, pacemaker, single chamber device, loc left, fibrotic band, chronic changes, loc pleural, hilar congestion, loc hilar, loc cardiac, apical pleural thickening, loc pleural</td>\n",
       "    </tr>\n",
       "    <tr>\n",
       "      <th id=\"T_fd3e3_level0_row4\" class=\"row_heading level0 row4\" >4</th>\n",
       "      <td id=\"T_fd3e3_row4_col0\" class=\"data row4 col0\" >9</td>\n",
       "      <td id=\"T_fd3e3_row4_col1\" class=\"data row4 col1\" >174654958803616926510759514339561596940_xze55j.png</td>\n",
       "      <td id=\"T_fd3e3_row4_col2\" class=\"data row4 col2\" >77</td>\n",
       "      <td id=\"T_fd3e3_row4_col3\" class=\"data row4 col3\" >Chest X-ray, age 78 male, projection L, modality CR, diagnosis laminar atelectasis, bronchiectasis, loc middle lobe, loc bronchi, vertebral degenerative changes, air trapping, loc retrocardiac, calcified densities, granuloma, loc right upper lobe, loc middle lung field, pseudonodule, loc middle lung field, normal, suboptimal study, loc right, soft tissue mass, loc soft tissue, loc rib, loc right, exclude, loc cervical, chronic changes, chronic changes, apical pleural thickening, fibrotic band, loc pleural, apical pleural thickening, fibrotic band, loc pleural</td>\n",
       "    </tr>\n",
       "    <tr>\n",
       "      <th id=\"T_fd3e3_level0_row5\" class=\"row_heading level0 row5\" >5</th>\n",
       "      <td id=\"T_fd3e3_row5_col0\" class=\"data row5 col0\" >9</td>\n",
       "      <td id=\"T_fd3e3_row5_col1\" class=\"data row5 col1\" >174654958803616926510759514339561596940_xjxwm2.png</td>\n",
       "      <td id=\"T_fd3e3_row5_col2\" class=\"data row5 col2\" >77</td>\n",
       "      <td id=\"T_fd3e3_row5_col3\" class=\"data row5 col3\" >Chest X-ray, age 78 male, projection PA, modality CR, diagnosis laminar atelectasis, bronchiectasis, loc middle lobe, loc bronchi, vertebral degenerative changes, air trapping, loc retrocardiac, calcified densities, granuloma, loc right upper lobe, loc middle lung field, pseudonodule, loc middle lung field, normal, suboptimal study, loc right, soft tissue mass, loc soft tissue, loc rib, loc right, exclude, loc cervical, chronic changes, chronic changes, apical pleural thickening, fibrotic band, loc pleural, apical pleural thickening, fibrotic band, loc pleural</td>\n",
       "    </tr>\n",
       "    <tr>\n",
       "      <th id=\"T_fd3e3_level0_row6\" class=\"row_heading level0 row6\" >6</th>\n",
       "      <td id=\"T_fd3e3_row6_col0\" class=\"data row6 col0\" >9</td>\n",
       "      <td id=\"T_fd3e3_row6_col1\" class=\"data row6 col1\" >253102062039367104507370231338421285645_ivdzdy.png</td>\n",
       "      <td id=\"T_fd3e3_row6_col2\" class=\"data row6 col2\" >77</td>\n",
       "      <td id=\"T_fd3e3_row6_col3\" class=\"data row6 col3\" >Chest X-ray, age 79 female, projection AP, modality CR, diagnosis calcified densities, loc supraspisnous, loc right, aortic atheromatosis, aortic elongation, loc aortic, alveolar pattern, pneumonia, loc lower lung field, loc upper lung field, loc right, loc left, atelectasis, pleural effusion, loc right lower lobe, loc pleural, alveolar pattern, heart insufficiency, loc cardiac, loc hilar bilateral, loc bilateral, vertebral degenerative changes, loc bone, exclude, loc left, loc humerus, sclerotic bone lesion, loc bone, loc left, loc scapula, unchanged</td>\n",
       "    </tr>\n",
       "    <tr>\n",
       "      <th id=\"T_fd3e3_level0_row7\" class=\"row_heading level0 row7\" >7</th>\n",
       "      <td id=\"T_fd3e3_row7_col0\" class=\"data row7 col0\" >13</td>\n",
       "      <td id=\"T_fd3e3_row7_col1\" class=\"data row7 col1\" >216840111366964013663026955732013122144112031_02-036-197.png</td>\n",
       "      <td id=\"T_fd3e3_row7_col2\" class=\"data row7 col2\" >82</td>\n",
       "      <td id=\"T_fd3e3_row7_col3\" class=\"data row7 col3\" >Chest X-ray, age 83 male, view LATERAL, projection L, modality CR, diagnosis cardiomegaly, loc cardiac, aortic elongation,  descendent aortic elongation, loc aortic, superior mediastinal enlargement,  supra aortic elongation, loc supra aortic, loc mediastinum, loc right, loc superior mediastinum, normal, exclude, loc left, calcified adenopathy, loc paravertebral, loc lumbar vertebrae, loc right, osteopenia, vertebral degenerative changes, loc cervical vertebrae, vertebral degenerative changes, vertebral degenerative changes, non axial articular degenerative changes, exclude,  non axial articular degenerative changes, loc right, non axial articular degenerative changes</td>\n",
       "    </tr>\n",
       "    <tr>\n",
       "      <th id=\"T_fd3e3_level0_row8\" class=\"row_heading level0 row8\" >8</th>\n",
       "      <td id=\"T_fd3e3_row8_col0\" class=\"data row8 col0\" >16</td>\n",
       "      <td id=\"T_fd3e3_row8_col1\" class=\"data row8 col1\" >216840111366964013663026955732013122144112031_02-037-029.png</td>\n",
       "      <td id=\"T_fd3e3_row8_col2\" class=\"data row8 col2\" >82</td>\n",
       "      <td id=\"T_fd3e3_row8_col3\" class=\"data row8 col3\" >Chest X-ray, age 83 male, view POSTEROANTERIOR, projection PA, modality CR, diagnosis cardiomegaly, loc cardiac, aortic elongation,  descendent aortic elongation, loc aortic, superior mediastinal enlargement,  supra aortic elongation, loc supra aortic, loc mediastinum, loc right, loc superior mediastinum, normal, exclude, loc left, calcified adenopathy, loc paravertebral, loc lumbar vertebrae, loc right, osteopenia, vertebral degenerative changes, loc cervical vertebrae, vertebral degenerative changes, vertebral degenerative changes, non axial articular degenerative changes, exclude,  non axial articular degenerative changes, loc right, non axial articular degenerative changes</td>\n",
       "    </tr>\n",
       "    <tr>\n",
       "      <th id=\"T_fd3e3_level0_row9\" class=\"row_heading level0 row9\" >9</th>\n",
       "      <td id=\"T_fd3e3_row9_col0\" class=\"data row9 col0\" >26</td>\n",
       "      <td id=\"T_fd3e3_row9_col1\" class=\"data row9 col1\" >216840111366964014008416513202014159094152180_01-191-029.png</td>\n",
       "      <td id=\"T_fd3e3_row9_col2\" class=\"data row9 col2\" >80</td>\n",
       "      <td id=\"T_fd3e3_row9_col3\" class=\"data row9 col3\" >Chest X-ray, age 62 female, projection PA, modality CR, diagnosis central venous catheter via subclavian vein, loc central, loc right, loc subclavian vein, costophrenic angle blunting,  pleural effusion, loc costophrenic angle, loc right costophrenic angle, loc left, loc pleural, pulmonary mass, loc right upper lobe, loc paramediastinum, adenopathy,  mediastinal enlargement, loc hilar, loc mediastinum, pseudonodule, loc middle lung field, loc bilateral, loc lower lung field, loc hemithorax, sclerotic bone lesion, loc scapula, loc clavicle, loc rib, loc humerus, loc column</td>\n",
       "    </tr>\n",
       "    <tr>\n",
       "      <th id=\"T_fd3e3_level0_row10\" class=\"row_heading level0 row10\" >10</th>\n",
       "      <td id=\"T_fd3e3_row10_col0\" class=\"data row10 col0\" >26</td>\n",
       "      <td id=\"T_fd3e3_row10_col1\" class=\"data row10 col1\" >216840111366964014008416513202014159094152180_01-191-007.png</td>\n",
       "      <td id=\"T_fd3e3_row10_col2\" class=\"data row10 col2\" >80</td>\n",
       "      <td id=\"T_fd3e3_row10_col3\" class=\"data row10 col3\" >Chest X-ray, age 62 female, projection L, modality CR, diagnosis central venous catheter via subclavian vein, loc central, loc right, loc subclavian vein, costophrenic angle blunting,  pleural effusion, loc costophrenic angle, loc right costophrenic angle, loc left, loc pleural, pulmonary mass, loc right upper lobe, loc paramediastinum, adenopathy,  mediastinal enlargement, loc hilar, loc mediastinum, pseudonodule, loc middle lung field, loc bilateral, loc lower lung field, loc hemithorax, sclerotic bone lesion, loc scapula, loc clavicle, loc rib, loc humerus, loc column</td>\n",
       "    </tr>\n",
       "  </tbody>\n",
       "</table>\n"
      ],
      "text/plain": [
       "<pandas.io.formats.style.Styler at 0x2110193d730>"
      ]
     },
     "execution_count": 7,
     "metadata": {},
     "output_type": "execute_result"
    }
   ],
   "source": [
    "import pandas as pd\n",
    "\n",
    "labels = pd.read_csv('PADCHEST_chest_x_ray_images_labels_160K_01.02.19.csv', index_col=0)\n",
    "\n",
    "# Calculate age, If PatientBirth is NA, age is NA otherwise age is year - birth\n",
    "labels['birth'] = labels['PatientBirth']\n",
    "labels['year'] = labels['StudyDate_DICOM'].astype(str).str[:4].astype(int)\n",
    "labels['age'] = (labels['year'] - labels['birth']).astype('Int64')\n",
    "\n",
    "# Generate prompts\n",
    "labels['age_prompt'] = labels['age'].apply(lambda x: '' if pd.isna(x) else 'age ' + str(x))\n",
    "labels['sex_prompt'] = labels['PatientSex_DICOM'].apply(lambda x: ' male, ' if x == 'M' else ' female, ' if x == 'F' else ', ')\n",
    "labels['view_prompt'] = labels['ViewPosition_DICOM'].apply(lambda x: '' if pd.isna(x) else 'view ' + str(x) + ', ')\n",
    "labels['projection_prompt'] = labels['Projection'].apply(lambda x: '' if pd.isna(x) else 'projection ' + str(x) + ', ')\n",
    "labels['modality_prompt'] = labels['Modality_DICOM'].apply(lambda x: '' if pd.isna(x) else 'modality ' + str(x) + ', ')\n",
    "labels['diagnosis_prompt'] = labels['LabelsLocalizationsBySentence'].apply(lambda x: '' if pd.isna(x) else 'diagnosis ' + str(x))\n",
    "labels['Prompt'] = 'Chest X-ray, ' + labels['age_prompt'] + labels['sex_prompt'] + labels['view_prompt'] + labels['projection_prompt'] + labels['modality_prompt'] + labels['diagnosis_prompt']\n",
    "# remove square brackets and single quotes\n",
    "labels['Prompt'] = labels['Prompt'].str.replace('[', '').str.replace(']', '').str.replace(\"'\", '')\n",
    "# Save a csv file with 3 columns, ImageID, ImageDir, and Prompt\n",
    "labels[['ImageID', 'ImageDir', 'Prompt']].to_csv('PADCHEST_Prompt.csv', index=False)\n",
    "\n",
    "# Print the ImageDir, ImageID, number of words and prompts for prompts with more than 75 words without truncation\n",
    "labels['num_words'] = labels['Prompt'].str.split().str.len()\n",
    "labels[['ImageDir', 'ImageID', 'num_words', 'Prompt']][labels['num_words'] > 75].reset_index(drop=True).style.set_properties(subset=['Prompt'], **{'width': '1000px'})"
   ]
  },
  {
   "cell_type": "code",
   "execution_count": 8,
   "metadata": {},
   "outputs": [],
   "source": [
    "# Print the number of each \"Modality_DICOM\" grouped b"
   ]
  },
  {
   "cell_type": "code",
   "execution_count": 9,
   "metadata": {},
   "outputs": [
    {
     "name": "stdout",
     "output_type": "stream",
     "text": [
      "Chest X-ray, age 72 male, view POSTEROANTERIOR, projection PA, modality CR, diagnosis COPD signs, COPD signs, COPD signs, nipple shadow, loc lower lung field, loc nipple, loc left, hemidiaphragm elevation right side, loc diaphragm, loc right\n",
      "Chest X-ray, age 72 male, view LATERAL, projection L, modality CR, diagnosis COPD signs, COPD signs, COPD signs, nipple shadow, loc lower lung field, loc nipple, loc left, hemidiaphragm elevation right side, loc diaphragm, loc right\n",
      "Chest X-ray, age 81 female, view LATERAL, projection L, modality CR, diagnosis exclude, exclude, exclude, mass, pulmonary mass, loc right upper lobe, loc hemithorax\n",
      "Chest X-ray, age 81 female, view POSTEROANTERIOR, projection PA, modality CR, diagnosis exclude, exclude, exclude, mass, pulmonary mass, loc right upper lobe, loc hemithorax\n",
      "Chest X-ray, age 28 male, projection AP_horizontal, modality CR, diagnosis alveolar pattern, pleural effusion, loc pleural, loc right, loc middle lobe, loc left, loc retrocardiac, pneumonia, exclude\n",
      "Chest X-ray, age 28 male, projection AP_horizontal, modality CR, diagnosis consolidation, cavitation, loc right lower lobe, laminar atelectasis, loc middle lobe, loc subsegmental, pleural effusion, loc pleural, loc bilateral, tuberculosis, pneumonia, infiltrates, loc lung field, loc middle lung field, loc bilateral, loc basal, apical pleural thickening, loc pleural, loc right, loc apical\n",
      "Chest X-ray, age 42 female, view POSTEROANTERIOR, projection PA, modality CR, diagnosis normal\n",
      "Chest X-ray, age 63 female, view PA, projection PA, modality DX, diagnosis aortic atheromatosis, aortic elongation, loc aortic, laminar atelectasis, loc basal, loc right, cardiomegaly, loc cardiac\n"
     ]
    }
   ],
   "source": [
    "import os\n",
    "path = 'test'\n",
    "for file in os.listdir(path=path):\n",
    "    # for each file in the directory, save a .txt file with the corresponding Prompt and the same name as the image file wihtout .png\n",
    "    print(labels[labels['ImageID'] == file]['Prompt'].values[0])\n",
    "    print(labels[labels['ImageID'] == file]['Prompt'].values[0], file=open(os.path.join(path, file.split(\".\")[0]) + '.txt', 'w'))"
   ]
  }
 ],
 "metadata": {
  "kernelspec": {
   "display_name": "ImV",
   "language": "python",
   "name": "python3"
  },
  "language_info": {
   "codemirror_mode": {
    "name": "ipython",
    "version": 3
   },
   "file_extension": ".py",
   "mimetype": "text/x-python",
   "name": "python",
   "nbconvert_exporter": "python",
   "pygments_lexer": "ipython3",
   "version": "3.8.16"
  },
  "orig_nbformat": 4
 },
 "nbformat": 4,
 "nbformat_minor": 2
}
