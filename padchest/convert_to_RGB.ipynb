{
 "cells": [
  {
   "cell_type": "code",
   "execution_count": 1,
   "metadata": {},
   "outputs": [],
   "source": [
    "import os\n",
    "import cv2\n",
    "import numpy as np\n",
    "\n",
    "def convert_to_RGB(src_dir, dest_dir):\n",
    "    if not os.path.exists(dest_dir):\n",
    "        os.mkdir(dest_dir)\n",
    "    for img_path in os.listdir(src_dir):\n",
    "        if img_path.endswith(\".png\"):\n",
    "            img = cv2.imread(os.path.join(src_dir, img_path), cv2.IMREAD_GRAYSCALE)\n",
    "            # expand grayscale to RGB\n",
    "            img = np.expand_dims(img, axis=2)\n",
    "            img = np.repeat(img, 3, axis=2)\n",
    "            cv2.imwrite(os.path.join(dest_dir, img_path), img)"
   ]
  },
  {
   "cell_type": "code",
   "execution_count": 4,
   "metadata": {},
   "outputs": [
    {
     "ename": "KeyboardInterrupt",
     "evalue": "",
     "output_type": "error",
     "traceback": [
      "\u001b[1;31m---------------------------------------------------------------------------\u001b[0m",
      "\u001b[1;31mKeyboardInterrupt\u001b[0m                         Traceback (most recent call last)",
      "Cell \u001b[1;32mIn[4], line 4\u001b[0m\n\u001b[0;32m      1\u001b[0m src_dir \u001b[39m=\u001b[39m \u001b[39m\"\u001b[39m\u001b[39mI:/My Drive/kohya/results/filtered\u001b[39m\u001b[39m\"\u001b[39m\n\u001b[0;32m      2\u001b[0m dest_dir \u001b[39m=\u001b[39m \u001b[39m\"\u001b[39m\u001b[39mI:/My Drive/kohya/results/filtered_labels_RGB\u001b[39m\u001b[39m\"\u001b[39m\n\u001b[1;32m----> 4\u001b[0m convert_to_RGB(src_dir, dest_dir)\n",
      "Cell \u001b[1;32mIn[1], line 10\u001b[0m, in \u001b[0;36mconvert_to_RGB\u001b[1;34m(src_dir, dest_dir)\u001b[0m\n\u001b[0;32m      8\u001b[0m \u001b[39mfor\u001b[39;00m img_path \u001b[39min\u001b[39;00m os\u001b[39m.\u001b[39mlistdir(src_dir):\n\u001b[0;32m      9\u001b[0m     \u001b[39mif\u001b[39;00m img_path\u001b[39m.\u001b[39mendswith(\u001b[39m\"\u001b[39m\u001b[39m.png\u001b[39m\u001b[39m\"\u001b[39m):\n\u001b[1;32m---> 10\u001b[0m         img \u001b[39m=\u001b[39m cv2\u001b[39m.\u001b[39;49mimread(os\u001b[39m.\u001b[39;49mpath\u001b[39m.\u001b[39;49mjoin(src_dir, img_path), cv2\u001b[39m.\u001b[39;49mIMREAD_GRAYSCALE)\n\u001b[0;32m     11\u001b[0m         \u001b[39m# expand grayscale to RGB\u001b[39;00m\n\u001b[0;32m     12\u001b[0m         img \u001b[39m=\u001b[39m np\u001b[39m.\u001b[39mexpand_dims(img, axis\u001b[39m=\u001b[39m\u001b[39m2\u001b[39m)\n",
      "\u001b[1;31mKeyboardInterrupt\u001b[0m: "
     ]
    }
   ],
   "source": [
    "src_dir = \"I:/My Drive/kohya/results/filtered\"\n",
    "dest_dir = \"I:/My Drive/kohya/results/filtered_labels_RGB\"\n",
    "\n",
    "convert_to_RGB(src_dir, dest_dir)"
   ]
  },
  {
   "cell_type": "code",
   "execution_count": 3,
   "metadata": {},
   "outputs": [],
   "source": [
    "# copy all .txt filed from src_dir to dest_dir\n",
    "dest_dir = \"I:/My Drive/kohya/results/filtered_labels_RGB/\"\n",
    "import shutil\n",
    "for txt_file in os.listdir(src_dir):\n",
    "    if txt_file.endswith(\".txt\"):\n",
    "        shutil.copy(os.path.join(src_dir, txt_file), dest_dir)"
   ]
  }
 ],
 "metadata": {
  "kernelspec": {
   "display_name": "ImV",
   "language": "python",
   "name": "python3"
  },
  "language_info": {
   "codemirror_mode": {
    "name": "ipython",
    "version": 3
   },
   "file_extension": ".py",
   "mimetype": "text/x-python",
   "name": "python",
   "nbconvert_exporter": "python",
   "pygments_lexer": "ipython3",
   "version": "3.8.16"
  },
  "orig_nbformat": 4
 },
 "nbformat": 4,
 "nbformat_minor": 2
}
