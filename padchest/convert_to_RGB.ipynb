{
 "cells": [
  {
   "cell_type": "code",
   "execution_count": null,
   "metadata": {},
   "outputs": [],
   "source": [
    "import os\n",
    "import cv2\n",
    "import numpy as np\n",
    "\n",
    "def convert_to_RGB(src_dir, dest_dir):\n",
    "    if not os.path.exists(dest_dir):\n",
    "        os.mkdir(dest_dir)\n",
    "    for img_path in os.listdir(src_dir):\n",
    "        if img_path.endswith(\".png\"):\n",
    "            img = cv2.imread(os.path.join(src_dir, img_path), cv2.IMREAD_GRAYSCALE)\n",
    "            # expand grayscale to RGB\n",
    "            img = np.expand_dims(img, axis=2)\n",
    "            img = np.repeat(img, 3, axis=2)\n",
    "            cv2.imwrite(os.path.join(dest_dir, img_path), img)"
   ]
  },
  {
   "cell_type": "code",
   "execution_count": 2,
   "metadata": {},
   "outputs": [],
   "source": [
    "src_dir = \"/home/aaz7118_nyu_edu/padchest/filtered_labels\"\n",
    "dest_dir = \"/home/aaz7118_nyu_edu/padchest/filtered_labels_RGB\"\n",
    "\n",
    "convert_to_RGB(src_dir, dest_dir)"
   ]
  },
  {
   "cell_type": "code",
   "execution_count": null,
   "metadata": {},
   "outputs": [],
   "source": [
    "# copy all .txt filed from src_dir to dest_dir\n",
    "import shutil\n",
    "for txt_file in os.listdir(src_dir):\n",
    "    if txt_file.endswith(\".txt\"):\n",
    "        shutil.copy(os.path.join(src_dir, txt_file), dest_dir)"
   ]
  }
 ],
 "metadata": {
  "kernelspec": {
   "display_name": "ImV",
   "language": "python",
   "name": "python3"
  },
  "language_info": {
   "codemirror_mode": {
    "name": "ipython",
    "version": 3
   },
   "file_extension": ".py",
   "mimetype": "text/x-python",
   "name": "python",
   "nbconvert_exporter": "python",
   "pygments_lexer": "ipython3",
   "version": "3.7.12"
  },
  "orig_nbformat": 4
 },
 "nbformat": 4,
 "nbformat_minor": 2
}
